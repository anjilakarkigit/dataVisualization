{
  "nbformat": 4,
  "nbformat_minor": 0,
  "metadata": {
    "colab": {
      "name": "Untitled10.ipynb",
      "provenance": [],
      "authorship_tag": "ABX9TyOxjT8WeBbBcmBAfim1ZRwV",
      "include_colab_link": true
    },
    "kernelspec": {
      "name": "python3",
      "display_name": "Python 3"
    },
    "language_info": {
      "name": "python"
    }
  },
  "cells": [
    {
      "cell_type": "markdown",
      "metadata": {
        "id": "view-in-github",
        "colab_type": "text"
      },
      "source": [
        "<a href=\"https://colab.research.google.com/github/anjilakarkigit/dataVisualization/blob/main/quiz21.ipynb\" target=\"_parent\"><img src=\"https://colab.research.google.com/assets/colab-badge.svg\" alt=\"Open In Colab\"/></a>"
      ]
    },
    {
      "cell_type": "markdown",
      "source": [
        "![john Snow](https://upload.wikimedia.org/wikipedia/commons/2/27/Snow-cholera-map-1.jpg)"
      ],
      "metadata": {
        "id": "BkQzRTDY6OdT"
      }
    },
    {
      "cell_type": "markdown",
      "source": [
        "This is the Broad Street Pump, made famous by John Snow's discovery. (Broad Street has since been\n",
        "renamed Broadwick Street.) Snow's painstaking analysis of the same data led him to the conclusion that\n",
        "the Broad Street pump was the source of the Soho epidemic. When the pump handle was removed,\n",
        "preventing people from using it, the epidemic came to an end. Through spatial analysis, many lives were\n",
        "saved, and cholera was confirmed as a water-borne disease."
      ],
      "metadata": {
        "id": "LPVoW0-v6mnX"
      }
    },
    {
      "cell_type": "markdown",
      "source": [
        "https://www.esri.com/content/dam/esrisites/en-us/media/pdf/teach-with-gis/john-snows-cholera-map.pdf"
      ],
      "metadata": {
        "id": "YRTgJ-FP78ej"
      }
    }
  ]
}