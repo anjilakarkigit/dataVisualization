{
  "nbformat": 4,
  "nbformat_minor": 0,
  "metadata": {
    "colab": {
      "name": "Untitled11.ipynb",
      "provenance": [],
      "authorship_tag": "ABX9TyO96E8Ij6tc7KivVSVlfiWw",
      "include_colab_link": true
    },
    "kernelspec": {
      "name": "python3",
      "display_name": "Python 3"
    },
    "language_info": {
      "name": "python"
    }
  },
  "cells": [
    {
      "cell_type": "markdown",
      "metadata": {
        "id": "view-in-github",
        "colab_type": "text"
      },
      "source": [
        "<a href=\"https://colab.research.google.com/github/anjilakarkigit/dataVisualization/blob/main/quiz22.ipynb\" target=\"_parent\"><img src=\"https://colab.research.google.com/assets/colab-badge.svg\" alt=\"Open In Colab\"/></a>"
      ]
    },
    {
      "cell_type": "markdown",
      "source": [
        "## GRAPHICAL INTEGRITY"
      ],
      "metadata": {
        "id": "-Ncvsz_sKnut"
      }
    },
    {
      "cell_type": "markdown",
      "source": [
        "[Adverse Childhood Experiences](https://symposium.foragerone.com/csu-murals-2022/presentations/38483)\n",
        "\n",
        "This presentation appeals to me much. The graphic representation of this topic is both fascinating and extensive. A lot of things are going on in the background. I enjoy how they use pictures to describe the many types of ACEs. It also has statistics. The graphic also illustrates four states' rates in comparison to the national average, as well as their state lows and highs in relation to ACEs reported. The graph, in my opinion, supports the project's entire goal."
      ],
      "metadata": {
        "id": "s3eiK5ZvQqsz"
      }
    },
    {
      "cell_type": "markdown",
      "source": [
        "[Agricultural Technology Adoption Among Smallholder Farmers in Kenya](https://symposium.foragerone.com/okrd22/presentations/37657)\n",
        "\n",
        "The project is researching about the adaptation adoption among smallholder farmers in kenya.There are not much visually in the picture. I can only see a piechart that doesn't quiet make sense how it is related to the topic of the research. "
      ],
      "metadata": {
        "id": "I_jAmFcIRT6L"
      }
    },
    {
      "cell_type": "markdown",
      "source": [
        "[Fitness Levels and Generalized Optimism](https://symposium.foragerone.com/okrd22/presentations/37017)\n",
        "\n",
        "The purpose of this research study was to determine whether a correlation exists between overall fitness and general optimism levels of college students at the University of Central Oklahoma.This research is quiet nice visually with different charts. I could see the relation with the trifit output.The visual clearly mathches the sub topic which is more like an explanation to that particular topic. In my opinion the accurately represents the data. It makes a good impression when we first look at it. This data is not a lie, and hopefully not.\n",
        "\n"
      ],
      "metadata": {
        "id": "1pdFfUIWT9t6"
      }
    }
  ]
}