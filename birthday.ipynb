{
  "nbformat": 4,
  "nbformat_minor": 0,
  "metadata": {
    "colab": {
      "name": "Untitled3.ipynb",
      "provenance": [],
      "authorship_tag": "ABX9TyMja/0AX5qVXNQjbWBx53YZ",
      "include_colab_link": true
    },
    "kernelspec": {
      "name": "python3",
      "display_name": "Python 3"
    },
    "language_info": {
      "name": "python"
    }
  },
  "cells": [
    {
      "cell_type": "markdown",
      "metadata": {
        "id": "view-in-github",
        "colab_type": "text"
      },
      "source": [
        "<a href=\"https://colab.research.google.com/github/anjilakarkigit/dataVisualization/blob/main/birthday.ipynb\" target=\"_parent\"><img src=\"https://colab.research.google.com/assets/colab-badge.svg\" alt=\"Open In Colab\"/></a>"
      ]
    },
    {
      "cell_type": "code",
      "execution_count": 3,
      "metadata": {
        "colab": {
          "base_uri": "https://localhost:8080/",
          "height": 35
        },
        "id": "K_uM3_oAyL2w",
        "outputId": "9e067e87-fe78-4f3b-b8a7-7791fc0e4f42"
      },
      "outputs": [
        {
          "output_type": "execute_result",
          "data": {
            "application/vnd.google.colaboratory.intrinsic+json": {
              "type": "string"
            },
            "text/plain": [
              "'Happy Birthday to you. Happy Birthday to you. Happy Birthday Dear Anjila Karki Happy Birthday to you.may god bless you'"
            ]
          },
          "metadata": {},
          "execution_count": 3
        }
      ],
      "source": [
        "x = 'Happy Birthday to you.'\n",
        "y = 'Dear Anjila Karki '\n",
        "z = 'may god bless you'\n",
        "x + \" \"+ x+ \" \" + x[:-8] + \" \" + y + x + z"
      ]
    },
    {
      "cell_type": "markdown",
      "source": [
        "Here is the song for my birthday using string."
      ],
      "metadata": {
        "id": "ZOPs6Vtqy1ir"
      }
    }
  ]
}